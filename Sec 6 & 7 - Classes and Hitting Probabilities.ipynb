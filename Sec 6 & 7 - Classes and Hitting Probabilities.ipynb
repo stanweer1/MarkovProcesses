{
 "cells": [
  {
   "cell_type": "markdown",
   "metadata": {},
   "source": [
    "# Class Structure"
   ]
  },
  {
   "cell_type": "markdown",
   "metadata": {},
   "source": [
    "### Communicating Classes"
   ]
  },
  {
   "cell_type": "markdown",
   "metadata": {},
   "source": [
    "In a large Markov chain, it is useful to split the space into smaller pieces, called classes, which can be studied separately, such that states $i$ and $j$ should be in the same class if we can go from $i$ to $j$ and back in finite steps."
   ]
  },
  {
   "cell_type": "markdown",
   "metadata": {},
   "source": [
    "For a markov chain with state space $\\mathcal{S}$ and transition matrix $P$, if we can write for states $i$ and $j$ that $p_{ij} > n$ for some integer $n$, then $j$ is **accessible** from $i$, and $i \\rightarrow{} j$. If both $i \\rightarrow{} j$ and $j \\rightarrow{} i$, we say that $i$ **communicates** with $j$ and $i \\leftrightarrow{} j$.\n",
    "\n",
    "From above, it is clear that _communicates_ is an equivalence relation, and has properties\n",
    "\n",
    "1. Reflexive: $i \\leftrightarrow i$ for all $i$\n",
    "\n",
    "2. Symmetric: if $i \\leftrightarrow j$, then $j \\leftrightarrow j$\n",
    "\n",
    "3. Transitive: if $i \\leftrightarrow j$ and $j \\leftrightarrow k$, then $i \\leftrightarrow k$  "
   ]
  },
  {
   "cell_type": "markdown",
   "metadata": {},
   "source": [
    "If the entire state space is one communicating class and all states are reachable from each other, the chain is said to be **irreducible**. (So, a chain with multiple communicating classes is reducible).\n",
    "\n",
    "If a communicating class is not accessible from the outside, we say that it is **closed**.\n",
    "\n",
    "If the communicating class is made up of just one state $i$ and it is closed, we say that state $i$ is **absorbing**."
   ]
  },
  {
   "cell_type": "markdown",
   "metadata": {},
   "source": [
    "### Periodicity"
   ]
  },
  {
   "cell_type": "markdown",
   "metadata": {},
   "source": [
    "The concept of periodicity is important to know which state we will be in after some time in future. Consider a markov chain with probability matrix $P$. We say that state $i \\in \\mathcal{S}$ has **period** $d_i$, such that\n",
    "\n",
    "$$ d_i = \\text{gcd}\\{n \\in \\{1, 2, \\cdots\\}: p_{ii}(n) > 0 \\} $$\n",
    "\n",
    "If $d_i > 1$, state $i$ is periodic. If $d_i = 1$, state $i$ is aperiodic."
   ]
  },
  {
   "cell_type": "markdown",
   "metadata": {},
   "source": [
    "All states in a communicating class have the same period. Formally: Consider a markov chain with $i, j \\in \\mathcal{S}$ such that $i \\leftrightarrow{} j$, then $d_i = d_j$."
   ]
  },
  {
   "cell_type": "markdown",
   "metadata": {},
   "source": [
    "# Hitting Probabilities and Times"
   ]
  },
  {
   "cell_type": "markdown",
   "metadata": {},
   "source": [
    "Let $\\{X_n\\}$ be a markov chain, and $H_i$ be a random variable representing the **hitting time** it takes to hit state $i$, \n",
    "\n",
    "$$ H_i = \\text{min}\\{n \\in \\{0, 1, 2, \\cdots \\}: X_n = i\\} $$\n",
    "\n",
    "The **hitting probability** $h_{ij}$ of the probability to hit $j$ starting at $i$ is \n",
    "\n",
    "$$ h_{ij} = \\mathbb{P}(X_n = j \\text{ for } n \\geq 0 | X_0 = i) = \\mathbb{P}(H_j < \\infty | X_0 = i) $$\n",
    "\n",
    "The **expected hitting time** of $j$ from state $i$ is \n",
    "\n",
    "$$ \\eta_{ij} = E[H_j | X_0 = i] \\quad \\quad \\text{(only finite if } h_{ij} = 1 \\text{)}$$"
   ]
  },
  {
   "cell_type": "markdown",
   "metadata": {},
   "source": [
    "**Summary:**\n",
    "\n",
    "1. Hitting probability $h_{ij}$ is the probability of hitting $j$ starting at $i$. \n",
    "\n",
    "2. Hitting time $\\eta_{ij}$ is the expected time of hitting $j$ starting at $i$."
   ]
  },
  {
   "cell_type": "markdown",
   "metadata": {},
   "source": [
    "### Example: Hitting Probabilities"
   ]
  },
  {
   "cell_type": "markdown",
   "metadata": {},
   "source": [
    "Consider a markov chain with P given as follows. Find the probability of being absorbed at state 2 while starting at 1. \n",
    "\n",
    "$$P = \\begin{pmatrix}\n",
    "1/5 & 1/5 & 1/5 & 2/5 \\\\\n",
    "0 & 1 & 0 & 0 \\\\\n",
    "0 & 1/2 & 0 & 1/2 \\\\\n",
    "0 & 0 & 0 & 1 \\\\\n",
    "\\end{pmatrix}\n",
    "$$"
   ]
  },
  {
   "cell_type": "markdown",
   "metadata": {},
   "source": [
    "This is asking for the the hitting probability $h_{12}$. We can write an equation for it using conditioning on the first step.\n",
    "\n",
    "$$ h_{12} = p_{11}h_{12} + p_{12}h_{22} + p_{13}h_{32} + p_{14}h_{42} = (1/5)h_{12} + (1/5)h_{22} + (1/5)h_{32} + (2/5)h_{42} $$\n",
    "\n",
    "Using $h_{22} = 1$ and $h_{42} = 0$, the equation can be reduced to \n",
    "\n",
    "$$ h_{12} = (1/5)h_{12} + (1/5) + (1/5)h_{32} $$"
   ]
  },
  {
   "cell_type": "markdown",
   "metadata": {},
   "source": [
    "To solve for $h_{12}$, we also need and equation for $h_{32}$. Similarly,\n",
    "\n",
    "$$ h_{32} = p_{31}h_{12} + p_{32}h_{22} + p_{33}h_{32} + p_{34}h_{42} = (0)h_{12} + (1/2)(1) + (0)h_{32} + (1/2)(0) $$\n",
    "\n",
    "$$ h_{32} = 1/2 $$"
   ]
  },
  {
   "cell_type": "markdown",
   "metadata": {},
   "source": [
    "This leads to\n",
    "\n",
    "$$ h_{12} = 3/8 $$"
   ]
  },
  {
   "cell_type": "markdown",
   "metadata": {},
   "source": [
    "### Example: Hitting Times"
   ]
  },
  {
   "cell_type": "markdown",
   "metadata": {},
   "source": [
    "Consider a markov chain with $P$ given as follows. Find the expected time to reach state 3 from state 1.\n",
    "\n",
    "$$P = \\begin{pmatrix}\n",
    "1/4 & 3/4 & 0 \\\\\n",
    "1/4 & 0 & 3/4 \\\\\n",
    "0 & 1/4 & 3/4 \\\\\n",
    "\\end{pmatrix}\n",
    "$$"
   ]
  },
  {
   "cell_type": "markdown",
   "metadata": {},
   "source": [
    "This is asking for the the hitting time $\\eta_{13}$. We can write an equation for it using conditioning on the first step.\n",
    "\n",
    "$$ \\eta_{13} = p_{11}\\eta_{13} + p_{12}\\eta_{23} + p_{13}\\eta_{33} + 1 = (1/4)\\eta_{13} + (3/4)\\eta_{23} + (0)(0) + 1$$\n",
    "\n",
    "Leading to \n",
    "\n",
    "$$ \\eta_{13} = (1/4)\\eta_{13} + (3/4)\\eta_{23} + 1$$\n"
   ]
  },
  {
   "cell_type": "markdown",
   "metadata": {},
   "source": [
    "To find $\\eta_{23}$, we write\n",
    "\n",
    "$$ \\eta_{23} = p_{21}\\eta_{13} + p_{22}\\eta_{23} + p_{23}\\eta_{33} + 1 = (1/4)\\eta_{13} + (0)\\eta_{23} + (3/4)(0) + 1$$\n",
    "\n",
    "Leading to \n",
    "\n",
    "$$ \\eta_{23} = (1/4)\\eta_{13}  + 1$$\n",
    "\n",
    "These two equations lead to $\\eta_{13} = 28/9 \\sim 3.11$."
   ]
  },
  {
   "cell_type": "markdown",
   "metadata": {},
   "source": [
    "### Return Times"
   ]
  },
  {
   "cell_type": "markdown",
   "metadata": {},
   "source": [
    "In the above, the hitting probability and time to a state from itself is 1 and 0. It is interesting to look at the random variable **return time** such that\n",
    "\n",
    "$$ M_i = \\text{min}\\{ n \\in \\{1, 2, \\cdots \\}: X_n = i \\} $$"
   ]
  },
  {
   "cell_type": "markdown",
   "metadata": {},
   "source": [
    "Likewise, we can have the **return probability** and **expected return time** represented as \n",
    "\n",
    "$$ m_i = \\mathbb{P}(X_n = i \\text{ for }n \\geq 1 | X_0 = i) = \\mathbb{P}(M_i < \\infty | X_0 = i) $$\n",
    "\n",
    "and \n",
    "\n",
    "$$ \\mu_i = E[M_i | X_0 = i] $$\n",
    "\n",
    "respectively."
   ]
  }
 ],
 "metadata": {
  "kernelspec": {
   "display_name": "Python 3",
   "language": "python",
   "name": "python3"
  },
  "language_info": {
   "codemirror_mode": {
    "name": "ipython",
    "version": 3
   },
   "file_extension": ".py",
   "mimetype": "text/x-python",
   "name": "python",
   "nbconvert_exporter": "python",
   "pygments_lexer": "ipython3",
   "version": "3.11.0"
  }
 },
 "nbformat": 4,
 "nbformat_minor": 2
}
