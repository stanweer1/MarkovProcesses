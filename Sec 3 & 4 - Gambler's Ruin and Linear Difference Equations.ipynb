{
 "cells": [
  {
   "cell_type": "markdown",
   "metadata": {},
   "source": [
    "# Gambler's Ruin Using Random Walk"
   ]
  },
  {
   "cell_type": "markdown",
   "metadata": {},
   "source": [
    "Consider the problem of two gamblers A and B gambling with $\\$a$ and $\\$(m - a)$ respectively. At each turn, A has probability $p$ of winning $\\$1$ from B and probability $q = 1-p$ of losing $\\$1$ to B. The game ends when one of them reaches $\\$m$ or $\\$0$."
   ]
  },
  {
   "cell_type": "markdown",
   "metadata": {},
   "source": [
    "Let $X_n$ be the money A has at any point such that $X_0 = a$. Then,\n",
    "\n",
    "$$ X_{n+1}= \\left\\{\n",
    "\\begin{array}{ll}\n",
    "X_n + 1 & \\text{probability }p \\\\\n",
    "X_n - 1 & \\text{probability }1-p \\\\\n",
    "0 & \\text{if }X_n = 0 \\\\\n",
    "m & \\text{if }X_n = m \\\\\n",
    "\\end{array}\n",
    "\\right. $$\n"
   ]
  },
  {
   "cell_type": "markdown",
   "metadata": {},
   "source": [
    "This corresponds to a simple random walk with _absorbing barriers_ of $0$ and $m$ where the walk ends. Likewise, there can be the concept of _reflecting barriers_ at which the walk reflects back to into the state space.\n",
    "\n",
    "*Questions:*\n",
    "\n",
    "1. What is the probability that A loses the game?\n",
    "\n",
    "2. How long is the game expected to last?"
   ]
  },
  {
   "cell_type": "markdown",
   "metadata": {},
   "source": [
    "### Probability of A losing"
   ]
  },
  {
   "cell_type": "markdown",
   "metadata": {},
   "source": [
    "Let $r_i$ be the probability of A losing when A has $\\$i$ such that $ r_0 = 1 $ and $ r_m = 0 $. Then, we can write the following equations:\n",
    "\n",
    "$$ r_i = pr_{i+1} + qr_{i - 1} $$\n",
    "\n",
    "The first is a linear difference equation and can be solved to give the values of $r_i$. Subsituting $\\rho = q/p$, the losing probability is given by:\n",
    "\n",
    "$$ r_a= \\left\\{\n",
    "\\begin{array}{ll}\n",
    "\\frac{\\rho^a - \\rho^m}{1 - \\rho^m} & \\text{if }\\rho \\ne 1 \\\\\n",
    "1 - \\frac{a}{m} & \\text{if }\\rho = 1 \\\\\n",
    "\\end{array}\n",
    "\\right. $$\n",
    "\n",
    "In the limit of $m \\xrightarrow{} \\infty$ with fixed $a$, $r_a \\xrightarrow{} 1$, i.e. A will certainly lose against a B with much more initial capital.\n"
   ]
  },
  {
   "cell_type": "markdown",
   "metadata": {},
   "source": [
    "### Duration of the Game"
   ]
  },
  {
   "cell_type": "markdown",
   "metadata": {},
   "source": [
    "Let $d_i$ be the expected duration of the game from the point of A having $\\$i$ such that $d_0 = 0$ and $d_m = 0$. Then, the following can be written:\n",
    "\n",
    "$$ d_i = p(1 + d_{i+1}) + q(1 + d_{i-1}) = 1 + pd_{i+1} + qd_{i-1}$$\n",
    "\n",
    "This is also a linear difference equation and can be solved to give the values of $d_i$. \n",
    "\n",
    "\n",
    "$$ d_a= \\left\\{\n",
    "\\begin{array}{ll}\n",
    "\\frac{1}{q-p} (a - m\\frac{1 - \\rho^a}{1 - \\rho^m}) & \\text{if }\\rho \\ne 1 \\\\\n",
    "a(m-1) & \\text{if }\\rho = 1 \\\\\n",
    "\\end{array}\n",
    "\\right. $$\n",
    "\n",
    "In the limit of $m \\xrightarrow{} \\infty$ with fixed $a$, $d_a \\xrightarrow{} \\frac{a}{q-p}$.\n"
   ]
  },
  {
   "cell_type": "markdown",
   "metadata": {},
   "source": [
    "# Linear Difference Equations"
   ]
  },
  {
   "cell_type": "markdown",
   "metadata": {},
   "source": [
    "Now we focus on solving the linear difference equations of the type:\n",
    "\n",
    "$$ a_k x_{n+k} + a_{k-1} x_{n+k-1} + \\cdots + a_1 x{n+1} + a_0 x_n = f(n)$$\n",
    "\n",
    "The equation typically comes with the constraints of values of first few $x_n$'s. If $f(n) = 0$, it is called _homogeneous_, if not, _inhomogeneous_. And given $k+1$ terms on the left, $k$ is the degree of the equation."
   ]
  },
  {
   "cell_type": "markdown",
   "metadata": {},
   "source": [
    "### Homogeneous LDE"
   ]
  },
  {
   "cell_type": "markdown",
   "metadata": {},
   "source": [
    "Let a second degree example be\n",
    "\n",
    "$$ x_{n+2} - 5x_{n+1} + 6x_n = 0 \\quad \\quad \\text{such that } x_0 = 4\\text{, } x_1 = 9$$"
   ]
  },
  {
   "cell_type": "markdown",
   "metadata": {},
   "source": [
    "Assume the solution is of the form $x_n = \\lambda^n$, then \n",
    "\n",
    "$$ \\lambda^{n+2} - 5\\lambda^{n+1} + 6\\lambda^{n} = 0 => \\lambda^{2} - 5\\lambda + 6 = 0$$\n",
    "\n",
    "The latter is the characteristic equation, which gives $\\lambda = 2, 3$ giving us the general solution \n",
    "\n",
    "$$ x_n = A2^n + B3^n$$\n",
    "\n",
    "With this, we can use the initial conditions / constraints to get values for A and B. \n",
    "\n",
    "$$ => x_n = 3(2^n) + 3^n $$"
   ]
  },
  {
   "cell_type": "markdown",
   "metadata": {},
   "source": [
    "### Inhomogeneous LDE"
   ]
  },
  {
   "cell_type": "markdown",
   "metadata": {},
   "source": [
    "The solution to the inhomogeneous LDE is the sum of the homogeneous and the particular solution. \n",
    "\n",
    "Let \n",
    "\n",
    "$$ x_{n+2} - 5x_{n+1} + 6x_n = 2 \\quad \\quad \\text{such that } x_0 = 4\\text{, } x_1 = 9$$\n",
    "\n",
    "The homogeneous solution is what was found earlier, that is:\n",
    "\n",
    "$$ x_{n_h} = A(2^n) + B(3^n) $$\n",
    "\n",
    "For the particular solution, we assume a term of a similar kind as the inhomogeneity, so let $x_{n_p} = C$. \n",
    "\n",
    "Substituting this in the original gives $C - 5C + 6C = 2 => C = 1 => x_{n_p} = 1$. The full solution is then\n",
    "\n",
    "$$ x_{n} = A(2^n) + B(3^n) + 1$$\n",
    "\n",
    "Now, the initial conditions can be used to get the values of A and B. \n",
    "\n",
    "$$ => x_n = 1 + 2^n + 2(3^n) $$"
   ]
  }
 ],
 "metadata": {
  "kernelspec": {
   "display_name": "Python 3",
   "language": "python",
   "name": "python3"
  },
  "language_info": {
   "codemirror_mode": {
    "name": "ipython",
    "version": 3
   },
   "file_extension": ".py",
   "mimetype": "text/x-python",
   "name": "python",
   "nbconvert_exporter": "python",
   "pygments_lexer": "ipython3",
   "version": "3.11.0"
  }
 },
 "nbformat": 4,
 "nbformat_minor": 2
}
