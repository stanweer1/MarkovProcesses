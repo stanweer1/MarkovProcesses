{
 "cells": [
  {
   "cell_type": "markdown",
   "metadata": {},
   "source": [
    "# Stationary Distribution"
   ]
  },
  {
   "cell_type": "markdown",
   "metadata": {},
   "source": [
    "Let $\\{X_n\\}$ be a markov chain with transition matrix $P$ and state space $\\mathcal{S}$, and $\\pi$ be a distribution on this chain such that $\\pi_{i} > 0 \\forall i \\in \\mathcal{S}$. Then, $\\pi$ is a stationary distribution if \n",
    "\n",
    "$$\\pi = \\pi P$$\n",
    "\n",
    "This essentially implies that the distribution $\\mathbb{P}(X_n = i)$ stays the same---the markov chain does keep moving. "
   ]
  },
  {
   "cell_type": "markdown",
   "metadata": {},
   "source": [
    "### Finding a Stationary Dist"
   ]
  },
  {
   "cell_type": "markdown",
   "metadata": {},
   "source": [
    "Let a transition matrix $P$\n",
    "\n",
    "$$P = \\begin{pmatrix}\n",
    "1/4 & 3/4 & 0 \\\\\n",
    "1/4 & 0 & 3/4 \\\\\n",
    "0 & 1/4 & 3/4 \\\\\n",
    "\\end{pmatrix}\n",
    "$$\n",
    "\n",
    "We have to find a $\\pi = [\\pi_1, \\pi_2, \\pi_3]$ such that $\\pi = \\pi*P$.\n",
    "\n",
    "Solving the system of equations alongwith $\\pi_1 + \\pi_2 + \\pi_3 = 1$, we get\n",
    "\n",
    "$$\\pi = [1/13, 3/13, 9/13]$$"
   ]
  },
  {
   "cell_type": "markdown",
   "metadata": {},
   "source": [
    "### Existence and Uniqueness"
   ]
  },
  {
   "cell_type": "markdown",
   "metadata": {},
   "source": [
    "Given a markov chain, does a stationary distribution always exist? Is it always unique?"
   ]
  },
  {
   "cell_type": "markdown",
   "metadata": {},
   "source": [
    "Given an irreducible markov chain:\n",
    "\n",
    "- If a markov chain is positive recurrent, then a unique stationary distribution will always exist such that $\\pi_i = 1/\\mu_i$ where $\\mu$ is the expected return time.\n",
    "- No stationary distribution exists for a null recurrent or transient markov chain.\n",
    "\n",
    "Otherwise:\n",
    "\n",
    "- If no classes are positive recurrent, no distribution exists.\n",
    "- If only one class is positive recurrent, then a unique distribution exists only on that class.\n",
    "- If one or more classes are positive recurrent, many stationary distributions exist."
   ]
  },
  {
   "cell_type": "markdown",
   "metadata": {},
   "source": [
    "Side note: If we have the stationary distribution $\\pi$, we can get the return times as well."
   ]
  },
  {
   "cell_type": "markdown",
   "metadata": {},
   "source": [
    "# Equilibrium Distribution"
   ]
  },
  {
   "cell_type": "markdown",
   "metadata": {},
   "source": [
    "What happens to a markov chain in the long-run? Does the distribution $\\mathbb{P}(X_n = i)$ settle to some equilibrium distribution? Does it always depend on the initial distribution $\\lambda$?"
   ]
  },
  {
   "cell_type": "markdown",
   "metadata": {},
   "source": [
    "Let $\\{X_n\\}$ be a markov chain with transition matrix $P$. Let there exists a distribution $p^*$ on the same state space such that regardless of the initial distribution $\\lambda$, $\\mathbb{P}(X_n = j) \\rightarrow{} p^*_{j}$ as $n \\rightarrow{} \\infty$. Then, $p^*$ is an **equilibrium distribution**."
   ]
  },
  {
   "cell_type": "markdown",
   "metadata": {},
   "source": [
    "**Limit Theorem:**\n",
    "\n",
    "Consider an irreducible and aperiodic markov chain. Then for any initial distribution $\\lambda$, we have $\\mathbb{P}(X_n = j) \\rightarrow{} 1/\\mu_j$ as $n \\rightarrow{} \\infty$, where $\\mu_j$ is the expected return time to state $j$. \n",
    "\n",
    "Particularly, \n",
    "\n",
    "- Let markov chain be positive recurrent. Then, the unique stationary distribution $\\pi$ is also the equilibrium distribution $p^*$. \n",
    "- Let markov chain be null recurrent or transient. Then, $\\mathbb{P}(X_n = j) \\rightarrow{} 0$, and there is no distribution. \n",
    "\n",
    "Hence, to have an equilibrium distribution, you need: irreduciblity, aperiodicity, and positive recurrence. And, if it exists, it is a stationary distribution. Also $P^n = [\\pi; \\pi; \\pi; \\cdots]$ as $n \\rightarrow{} \\infty$."
   ]
  },
  {
   "cell_type": "markdown",
   "metadata": {},
   "source": [
    "## Ergodic Theorem"
   ]
  },
  {
   "cell_type": "markdown",
   "metadata": {},
   "source": [
    "Along with the long-run distribution, we can also look at the long-run amount of time spent in a particular state i.e. sort of the average behaviour over a long period. Let us write \n",
    "\n",
    "$$ V_j(N) = \\#\\{n < N: X_n = j\\} $$\n",
    "\n",
    "as the total number of visits of state $j$ when the chain has run $N$ steps. Dividing by $N$ would give the long-run proportion of time spent in $j$."
   ]
  },
  {
   "cell_type": "markdown",
   "metadata": {},
   "source": [
    "**Ergodic Theorem:**\n",
    "\n",
    "Consider an irreducible markov chain with initial distribution $\\lambda$. For $\\mu_j$ being the return time, $V_j(n)/n \\rightarrow{} 1/\\mu_j$ as $n \\rightarrow{} \\infty$. \n",
    "\n",
    "Particularly:\n",
    "\n",
    "- For a positive recurrent markov chain, there is a unique stationary distribution $\\pi$ and $V(n)/n \\rightarrow{} \\pi$.\n",
    "- For a null recurrent or transient markov chain, $V(n)/n \\rightarrow{} 0$.\n",
    "\n",
    "For long-run time proportion, we don't need aperiodicity as a condition---only irreducibility and positive recurrence. "
   ]
  }
 ],
 "metadata": {
  "kernelspec": {
   "display_name": "Python 3",
   "language": "python",
   "name": "python3"
  },
  "language_info": {
   "codemirror_mode": {
    "name": "ipython",
    "version": 3
   },
   "file_extension": ".py",
   "mimetype": "text/x-python",
   "name": "python",
   "nbconvert_exporter": "python",
   "pygments_lexer": "ipython3",
   "version": "3.11.0"
  }
 },
 "nbformat": 4,
 "nbformat_minor": 2
}
