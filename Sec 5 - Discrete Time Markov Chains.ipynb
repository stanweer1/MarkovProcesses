{
 "cells": [
  {
   "cell_type": "markdown",
   "metadata": {},
   "source": [
    "# Discrete Time Markov Chains"
   ]
  },
  {
   "cell_type": "markdown",
   "metadata": {},
   "source": [
    "To define a Markov chain, we need the starting point of the chain and the transition probabilities between different states. "
   ]
  },
  {
   "cell_type": "markdown",
   "metadata": {},
   "source": [
    "The starting point can be chosen randomly based on some distribution $\\lambda_i = \\mathbb{P}(X_0 = i)$ while the transition probabilities $\\mathbb{P}(X_{n+1} = j | X_n = i)$ have to be defined separately. "
   ]
  },
  {
   "cell_type": "markdown",
   "metadata": {},
   "source": [
    "For example, for the random walk, the following can be written\n",
    "\n",
    "$$ \\lambda_i = \\mathbb{P}(X_0 = i) = \\left\\{\n",
    "\\begin{array}{ll}\n",
    "1 & \\text{if }i = 0 \\\\\n",
    "0 & \\text{otherwise} \\\\\n",
    "\\end{array}\n",
    "\\right. $$\n",
    "\n",
    "and transition probabilities\n",
    "\n",
    "$$ \\mathbb{P}(X_{n+1} = j | X_n = i) =\\left\\{\n",
    "\\begin{array}{ll}\n",
    "p & \\text{if }j = i+1 \\\\\n",
    "q & \\text{if }j = i-1 \\\\\n",
    "0 & \\text{otherwise} \\\\\n",
    "\\end{array}\n",
    "\\right. $$\n",
    "\n",
    "\n",
    "It can be seen that the transition probabilities don't rely on $n$ i.e. time. Such a markov chain is called time-homogeneous. "
   ]
  },
  {
   "cell_type": "markdown",
   "metadata": {},
   "source": [
    "In general, a time-homogeneous markov chain can be written using the following two equations:\n",
    "\n",
    "$$ \\mathbb{P}(X_0 = i) = \\lambda_i,$$\n",
    "\n",
    "$$ \\mathbb{P}(X_{n+1} = j | X_n = i, X_{n-1} = x_{n-1}, \\cdots, X_0 = x_0) = \\mathbb{P}(X_{n+1} = j | X_n = i) = p_{ij} $$"
   ]
  },
  {
   "cell_type": "markdown",
   "metadata": {},
   "source": [
    "For a finite state space, it is easy to write these transition probabilities as a transition matrix with $(i, j)$th entry as $p_{ij}$. "
   ]
  },
  {
   "cell_type": "markdown",
   "metadata": {},
   "source": [
    "Given this notation, e.g. \n",
    "\n",
    "$$ \\mathbb{P}(X_0 = i \\text{ and } X_1 = j) = \\lambda_i p_{ij} $$\n",
    "\n",
    "and \n",
    "\n",
    "$$ \\mathbb{P}(X_{n+2} = j \\text{ and } X_{n+1} = k | X_n = i) = p_{ik}p_{kj} $$"
   ]
  },
  {
   "cell_type": "markdown",
   "metadata": {},
   "source": [
    "### Example Two-State Markov Chain"
   ]
  },
  {
   "cell_type": "markdown",
   "metadata": {},
   "source": [
    "Let a simple markov chain with two states $0$ and $1$, and transition matrix\n",
    "\n",
    "$$ P = \n",
    "\\begin{pmatrix}\n",
    "p_{00} & p_{01} \\\\\n",
    "p_{10} & p_{11}\n",
    "\\end{pmatrix}\n",
    "=\n",
    "\\begin{pmatrix}\n",
    "1 - \\alpha & \\alpha \\\\\n",
    "\\beta & 1 - \\beta\n",
    "\\end{pmatrix}\n",
    "$$"
   ]
  },
  {
   "cell_type": "markdown",
   "metadata": {},
   "source": [
    "Let's take the example of a printer. Let state 0 be 'not working' and state 1 be 'working'. \n",
    "\n",
    "If the printer is working on Monday (time = $n$), what is the probability that is not working on Tuesday (time = $n+1$)? \n",
    "\n",
    "$$p_{10}(1) = p_{10} = \\beta$$\n",
    "\n",
    "If the printer is working on Monday (time = $n$), what is the probability that is working on Wednesday (time = $n+2$)? \n",
    "\n",
    "$$p_{11}(2) = \\mathbb{P}(X_{n+2} = 1 | X_n = 1) = p_{10}p_{01} + p_{11}p_{11} = \\alpha\\beta + (1-\\beta)^2$$"
   ]
  },
  {
   "cell_type": "markdown",
   "metadata": {},
   "source": [
    "### $n$-step Transition Probability"
   ]
  },
  {
   "cell_type": "markdown",
   "metadata": {},
   "source": [
    "For the two-step probability above, we considered all intermediate steps\n",
    "\n",
    "$$ p_{ij}(2) = \\sum_{k \\in \\mathcal{S}} p_{ik}p_{kj} $$\n",
    "\n",
    "But this is exactly the formula for $P^2$. Hence, we can deduce that the $n$-step probability would be taken from the matrix $P^n$. \n",
    "\n",
    "$$ P(n) = P^n $$"
   ]
  },
  {
   "cell_type": "markdown",
   "metadata": {},
   "source": [
    "This also leads to the *Chapman-Kolmogorov equation*. Given a markov chain with state space $\\mathcal{S}$ and transition matrix $P = p(i, j)$, we have\n",
    "\n",
    "$$ p_{ij}(n + m) = \\sum_{k \\in \\mathcal{S}} p_{ik}(n) p_{kj}(m) $$\n",
    "\n",
    "or in matrix form\n",
    "\n",
    "$$ P(n+m) = P(n)P(m) = P^n P^m = P^{n+m} $$"
   ]
  }
 ],
 "metadata": {
  "kernelspec": {
   "display_name": "Python 3",
   "language": "python",
   "name": "python3"
  },
  "language_info": {
   "codemirror_mode": {
    "name": "ipython",
    "version": 3
   },
   "file_extension": ".py",
   "mimetype": "text/x-python",
   "name": "python",
   "nbconvert_exporter": "python",
   "pygments_lexer": "ipython3",
   "version": "3.11.0"
  }
 },
 "nbformat": 4,
 "nbformat_minor": 2
}
